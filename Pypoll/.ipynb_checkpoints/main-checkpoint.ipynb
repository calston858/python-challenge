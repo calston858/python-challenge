{
 "cells": [
  {
   "cell_type": "code",
   "execution_count": 1,
   "metadata": {},
   "outputs": [
    {
     "name": "stdout",
     "output_type": "stream",
     "text": [
      "Election Results\n",
      "-------------------------\n",
      "Total Votes: 3521001\n",
      "-------------------------\n",
      "Khan: 63.000% (2218231)\n",
      "Correy: 20.000% (704200)\n",
      "Li: 14.000% (492940)\n",
      "O'Tooley: 3.000% (105630)\n",
      "-------------------------\n",
      "Winner: Khan\n",
      "-------------------------\n"
     ]
    }
   ],
   "source": [
    "import os\n",
    "import csv\n",
    "import collections\n",
    "from collections import Counter # Needed for counting votes of each candidate\n",
    "\n",
    "# Define variables needed for PyPoll\n",
    "candidate_name = [] \n",
    "candidate_votetotal = []\n",
    "\n",
    "csvpath = os.path.join(\"Resources\", \"election_data.csv\") # Define a path for CPU to find CSV file\n",
    "\n",
    "\n",
    "with open(csvpath, newline=\"\") as csvfile: # with open function *to read selected CSV file\n",
    "    csv_reader = csv.reader(csvfile, delimiter=\",\")\n",
    "    csv_header = next(csvfile) # Variable for first row, which in this file is the header row\n",
    "\n",
    "    for row in csv_reader: # For each row in CSV file, do the following:\n",
    "        candidate_name.append(row[2]) # Start row 2, after the header\n",
    "\n",
    "\n",
    "    sorted_list = sorted(candidate_name) # List for sorting candidates (ascending order)\n",
    "    holding_list = sorted_list # List for holding their name values\n",
    "    plus_one_vote = Counter (holding_list) # Counts votes per candidate using counter and appends results to votes_per_candidate\n",
    "    candidate_votetotal.append(plus_one_vote.most_common())\n",
    "\n",
    "\n",
    "    for item in candidate_votetotal: # For function used w/ calculations for % of votes per candidate w/ three decimal places\n",
    "       \n",
    "        first = format((item[0][1])*100/(sum(plus_one_vote.values())),'.3f')\n",
    "        second = format((item[1][1])*100/(sum(plus_one_vote.values())),'.3f')\n",
    "        third = format((item[2][1])*100/(sum(plus_one_vote.values())),'.3f')\n",
    "        last = format((item[3][1])*100/(sum(plus_one_vote.values())),'.3f')\n",
    "\n",
    "# Print results for analysis in the terminal following correct layout format\n",
    "print(\"Election Results\")\n",
    "print(\"-------------------------\")\n",
    "print(f\"Total Votes: {sum(plus_one_vote.values())}\")\n",
    "print(\"-------------------------\")\n",
    "print(f\"{candidate_votetotal[0][0][0]}: {first}% ({candidate_votetotal[0][0][1]})\")\n",
    "print(f\"{candidate_votetotal[0][1][0]}: {second}% ({candidate_votetotal[0][1][1]})\")\n",
    "print(f\"{candidate_votetotal[0][2][0]}: {third}% ({candidate_votetotal[0][2][1]})\")\n",
    "print(f\"{candidate_votetotal[0][3][0]}: {last}% ({candidate_votetotal[0][3][1]})\")\n",
    "print(\"-------------------------\")\n",
    "print(f\"Winner: {candidate_votetotal[0][0][0]}\")\n",
    "print(\"-------------------------\")\n",
    "\n",
    "election_file = os.path.join(\"Output\", \"election_data.txt\") # Create path for new .txt file with Election Results in Output Folder\n",
    "with open(election_file, \"w\") as outfile: #Open file, then write the following:\n",
    "\n",
    "    outfile.write(\"Election Results\\n\")\n",
    "    outfile.write(\"-------------------------\\n\")\n",
    "    outfile.write(f\"Total Votes:  {sum(plus_one_vote.values())}\\n\")\n",
    "    outfile.write(\"-------------------------\\n\")\n",
    "    outfile.write(f\"{candidate_votetotal[0][0][0]}: {first}% ({candidate_votetotal[0][0][1]})\\n\")\n",
    "    outfile.write(f\"{candidate_votetotal[0][1][0]}: {second}% ({candidate_votetotal[0][1][1]})\\n\")\n",
    "    outfile.write(f\"{candidate_votetotal[0][2][0]}: {third}% ({candidate_votetotal[0][2][1]})\\n\")\n",
    "    outfile.write(f\"{candidate_votetotal[0][3][0]}: {last}% ({candidate_votetotal[0][3][1]})\\n\")\n",
    "    outfile.write(\"-------------------------\\n\")\n",
    "    outfile.write(f\"Winner:  {candidate_votetotal[0][0][0]}\\n\")\n",
    "    outfile.write(\"-------------------------\\n\")"
   ]
  },
  {
   "cell_type": "code",
   "execution_count": null,
   "metadata": {},
   "outputs": [],
   "source": []
  }
 ],
 "metadata": {
  "kernelspec": {
   "display_name": "Python 3",
   "language": "python",
   "name": "python3"
  },
  "language_info": {
   "codemirror_mode": {
    "name": "ipython",
    "version": 3
   },
   "file_extension": ".py",
   "mimetype": "text/x-python",
   "name": "python",
   "nbconvert_exporter": "python",
   "pygments_lexer": "ipython3",
   "version": "3.8.5"
  }
 },
 "nbformat": 4,
 "nbformat_minor": 4
}
