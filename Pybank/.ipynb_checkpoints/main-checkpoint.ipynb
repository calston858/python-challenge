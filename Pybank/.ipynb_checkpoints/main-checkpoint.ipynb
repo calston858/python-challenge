{
 "cells": [
  {
   "cell_type": "code",
   "execution_count": 1,
   "metadata": {},
   "outputs": [
    {
     "name": "stdout",
     "output_type": "stream",
     "text": [
      "Financial Analysis:\n",
      "----------------------------\n",
      "Total Months: 86\n",
      "Total: $38382578\n",
      "Average Change: $-2315.12\n",
      "Greatest Increase in Profits: Feb-2012 ($1926159)\n",
      "Greatest Decrease in Losses:  Sep-2013 ($-2196167)\n"
     ]
    }
   ],
   "source": [
    "import os\n",
    "import csv\n",
    "\n",
    "months = [] #variable names needed to run PyBank\n",
    "profit_loss_changes = [] # [] represents text value\n",
    "month_count = 0 # 0 represents initial numeric value\n",
    "net_profit_loss = 0\n",
    "previous_month_amount = 0\n",
    "current_month_amount = 0\n",
    "total_change = 0\n",
    "\n",
    "csvpath = os.path.join(\"Resources\", \"budget_data.csv\") # Path for CPU to find CSV file\n",
    "\n",
    "with open(csvpath, newline=\"\") as csvfile: # Open CSV file:\n",
    "    csv_reader = csv.reader(csvfile, delimiter=\",\") # Read values from file, seperated by commas\n",
    "    csv_header = next(csvfile) # Read the header row first\n",
    "                 \n",
    "    for row in csv_reader:# For each row in CSV file, do the following:\n",
    "        month_count += 1 # Grab number value from column 2\n",
    "        current_month_amount = int(row[1]) # New variable to calc net amount of profit/loss\n",
    "        net_profit_loss += current_month_amount\n",
    "\n",
    "        if (month_count == 1):\n",
    "            previous_month_amount = current_month_amount # Update value of previous month to be equal to current month           \n",
    "            continue\n",
    "        else:\n",
    "            total_change = current_month_amount - previous_month_amount # Calc change in profit loss       \n",
    "            months.append(row[0])  # Append each month to the months variable        \n",
    "            profit_loss_changes.append(total_change) # Append total_change to the profit_loss_changes variable\n",
    "            previous_month_amount = current_month_amount # Update current_month_loss to be previous_month_profit_loss for next loop\n",
    "            sum_profit_loss = sum(profit_loss_changes) # Calc sum and average change in profit/loss\n",
    "            average_profit_loss = round(sum_profit_loss/(month_count - 1), 2)\n",
    "            largest_change = max(profit_loss_changes) # Define largest and smallest changes in profit/loss \n",
    "            smallest_change = min(profit_loss_changes)\n",
    "            largest_month_index = profit_loss_changes.index(largest_change) # Locate the index value of largest and smallest changes in profit/loss \n",
    "            smallest_month_index = profit_loss_changes.index(smallest_change)\n",
    "            best_month = months[largest_month_index]   # Define the best and worst months\n",
    "            worst_month = months[smallest_month_index]\n",
    "\n",
    "\n",
    "print(\"Financial Analysis:\") # Print instructions for terminal & fit correct formatting\n",
    "print(\"----------------------------\")\n",
    "print(f\"Total Months: {month_count}\")\n",
    "print(f\"Total: ${net_profit_loss}\")\n",
    "print(f\"Average Change: ${average_profit_loss}\")\n",
    "print(f\"Greatest Increase in Profits: {best_month} (${largest_change})\")\n",
    "print(f\"Greatest Decrease in Losses:  {worst_month} (${smallest_change})\")\n",
    "\n",
    "budget_file = os.path.join(\"Output\", \"budget_data.txt\") # Define path for new .txt file saved in Output folder inside PyBank\n",
    "with open(budget_file, \"w\") as outfile: # Write the following:\n",
    "\n",
    "    outfile.write(\"Financial Analysis:\\n\")\n",
    "    outfile.write(\"----------------------------\\n\")\n",
    "    outfile.write(f\"Total Months:  {month_count}\\n\")\n",
    "    outfile.write(f\"Total:  ${net_profit_loss}\\n\")\n",
    "    outfile.write(f\"Average Change:  ${average_profit_loss}\\n\")\n",
    "    outfile.write(f\"Greatest Increase in Profits:  {best_month} (${largest_change})\\n\")\n",
    "    outfile.write(f\"Greatest Decrease in Losses:  {worst_month} (${smallest_change})\\n\")\n"
   ]
  },
  {
   "cell_type": "code",
   "execution_count": null,
   "metadata": {},
   "outputs": [],
   "source": []
  }
 ],
 "metadata": {
  "kernelspec": {
   "display_name": "Python 3",
   "language": "python",
   "name": "python3"
  },
  "language_info": {
   "codemirror_mode": {
    "name": "ipython",
    "version": 3
   },
   "file_extension": ".py",
   "mimetype": "text/x-python",
   "name": "python",
   "nbconvert_exporter": "python",
   "pygments_lexer": "ipython3",
   "version": "3.8.5"
  }
 },
 "nbformat": 4,
 "nbformat_minor": 4
}
